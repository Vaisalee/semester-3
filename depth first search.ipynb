{
 "cells": [
  {
   "cell_type": "code",
   "execution_count": 3,
   "id": "4376a105",
   "metadata": {},
   "outputs": [],
   "source": [
    "graph={'pkc':['stadium','parking','tree'],\n",
    "      'stadium':['main block'],\n",
    "          'parking':['junction'],\n",
    "        'junction':['entrance','main block'],'main block':['junction'],'tree':['pkc'],'entrance':['junction']\n",
    "      }"
   ]
  },
  {
   "cell_type": "code",
   "execution_count": 4,
   "id": "2de9a0db",
   "metadata": {},
   "outputs": [],
   "source": [
    "from queue import LifoQueue\n",
    "stack=LifoQueue\n",
    "def dfs(graph,start,goal,visited):\n",
    "    stack=[start]\n",
    "    while stack:\n",
    "        node=stack.pop()\n",
    "        if node not in visited:\n",
    "            visited.append(node)\n",
    "            if node==goal:\n",
    "                print(visited)\n",
    "            for neighbours in graph[node]:\n",
    "                dfs(graph,neighbours,goal,visited)"
   ]
  },
  {
   "cell_type": "code",
   "execution_count": 5,
   "id": "494cb451",
   "metadata": {},
   "outputs": [
    {
     "name": "stdout",
     "output_type": "stream",
     "text": [
      "['pkc', 'stadium', 'main block', 'junction']\n"
     ]
    }
   ],
   "source": [
    "dfs(graph,'pkc','junction',[])"
   ]
  },
  {
   "cell_type": "code",
   "execution_count": null,
   "id": "5c15afbc",
   "metadata": {},
   "outputs": [],
   "source": []
  }
 ],
 "metadata": {
  "kernelspec": {
   "display_name": "Python 3 (ipykernel)",
   "language": "python",
   "name": "python3"
  },
  "language_info": {
   "codemirror_mode": {
    "name": "ipython",
    "version": 3
   },
   "file_extension": ".py",
   "mimetype": "text/x-python",
   "name": "python",
   "nbconvert_exporter": "python",
   "pygments_lexer": "ipython3",
   "version": "3.11.5"
  }
 },
 "nbformat": 4,
 "nbformat_minor": 5
}
