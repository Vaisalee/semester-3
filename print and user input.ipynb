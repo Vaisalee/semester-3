{
 "cells": [
  {
   "cell_type": "code",
   "execution_count": 11,
   "id": "90e411c0",
   "metadata": {},
   "outputs": [],
   "source": [
    "name='vaishu'"
   ]
  },
  {
   "cell_type": "code",
   "execution_count": 3,
   "id": "8bb7a75b",
   "metadata": {},
   "outputs": [
    {
     "name": "stdout",
     "output_type": "stream",
     "text": [
      "my name is vaishu\n"
     ]
    }
   ],
   "source": [
    "print(\"my name is {}\".format(name))"
   ]
  },
  {
   "cell_type": "code",
   "execution_count": 13,
   "id": "1c3e67b7",
   "metadata": {},
   "outputs": [],
   "source": [
    "nam='jeni'"
   ]
  },
  {
   "cell_type": "code",
   "execution_count": 14,
   "id": "3df2e066",
   "metadata": {},
   "outputs": [
    {
     "name": "stdout",
     "output_type": "stream",
     "text": [
      "my name is jeni\n"
     ]
    }
   ],
   "source": [
    "print(\"my name is {}\".format(nam))"
   ]
  },
  {
   "cell_type": "code",
   "execution_count": 15,
   "id": "6c8c674a",
   "metadata": {},
   "outputs": [
    {
     "name": "stdout",
     "output_type": "stream",
     "text": [
      "name is vaishu\n"
     ]
    }
   ],
   "source": [
    " print(\"name is\",name)"
   ]
  },
  {
   "cell_type": "code",
   "execution_count": 23,
   "id": "98a60000",
   "metadata": {},
   "outputs": [
    {
     "name": "stdout",
     "output_type": "stream",
     "text": [
      "8 1\n"
     ]
    }
   ],
   "source": [
    "print(\"{y} {w}\".format(w=1,y=8))"
   ]
  },
  {
   "cell_type": "code",
   "execution_count": 28,
   "id": "e5008657",
   "metadata": {},
   "outputs": [
    {
     "name": "stdout",
     "output_type": "stream",
     "text": [
      "My name is vaishu.I am from sacred school\n"
     ]
    }
   ],
   "source": [
    "print(\"My name is {name}.I am from {school} school\".format(name='vaishu',school='sacred'))\n"
   ]
  },
  {
   "cell_type": "code",
   "execution_count": 35,
   "id": "590b26e4",
   "metadata": {},
   "outputs": [
    {
     "name": "stdout",
     "output_type": "stream",
     "text": [
      "7867 hjhj\n"
     ]
    }
   ],
   "source": [
    "print(\"{} {}\".format(7867,'hjhj'))"
   ]
  },
  {
   "cell_type": "code",
   "execution_count": 37,
   "id": "09a511e1",
   "metadata": {},
   "outputs": [
    {
     "name": "stdout",
     "output_type": "stream",
     "text": [
      "vaishu jeni\n"
     ]
    }
   ],
   "source": [
    "print(\"{} {}\".format(\"vaishu\",'jeni'))"
   ]
  },
  {
   "cell_type": "markdown",
   "id": "fcbcc9f3",
   "metadata": {},
   "source": [
    "# f-print"
   ]
  },
  {
   "cell_type": "code",
   "execution_count": 40,
   "id": "5654ef24",
   "metadata": {},
   "outputs": [
    {
     "name": "stdout",
     "output_type": "stream",
     "text": [
      "my favorite place is paris\n"
     ]
    }
   ],
   "source": [
    "print(f\"my favorite place is {'paris'}\")"
   ]
  },
  {
   "cell_type": "code",
   "execution_count": 49,
   "id": "4993fd51",
   "metadata": {},
   "outputs": [
    {
     "name": "stdout",
     "output_type": "stream",
     "text": [
      "she sell  sea shell in sea shore\n"
     ]
    }
   ],
   "source": [
    "print(f\"she {'sell'}  sea shell in {'sea shore'}\")"
   ]
  },
  {
   "cell_type": "code",
   "execution_count": 52,
   "id": "15928b84",
   "metadata": {},
   "outputs": [
    {
     "name": "stdout",
     "output_type": "stream",
     "text": [
      "she sell sea shell in sea shore\n"
     ]
    }
   ],
   "source": [
    "print(\"she sell {} shell in {}\".format('sea','sea shore'))\n"
   ]
  },
  {
   "cell_type": "markdown",
   "id": "4b4eed12",
   "metadata": {},
   "source": [
    "# user input"
   ]
  },
  {
   "cell_type": "code",
   "execution_count": 53,
   "id": "e50db1e3",
   "metadata": {},
   "outputs": [
    {
     "name": "stdout",
     "output_type": "stream",
     "text": [
      "pppppll\n"
     ]
    },
    {
     "data": {
      "text/plain": [
       "'pppppll'"
      ]
     },
     "execution_count": 53,
     "metadata": {},
     "output_type": "execute_result"
    }
   ],
   "source": [
    "input()"
   ]
  },
  {
   "cell_type": "code",
   "execution_count": 54,
   "id": "244e41d5",
   "metadata": {},
   "outputs": [
    {
     "name": "stdout",
     "output_type": "stream",
     "text": [
      "uuuodhj\n"
     ]
    }
   ],
   "source": [
    "ae=input()"
   ]
  },
  {
   "cell_type": "code",
   "execution_count": 55,
   "id": "cf50f2e6",
   "metadata": {},
   "outputs": [
    {
     "name": "stdout",
     "output_type": "stream",
     "text": [
      "uuuodhj\n"
     ]
    }
   ],
   "source": [
    "print(ae)"
   ]
  },
  {
   "cell_type": "code",
   "execution_count": 56,
   "id": "8614d111",
   "metadata": {},
   "outputs": [
    {
     "name": "stdout",
     "output_type": "stream",
     "text": [
      "34\n"
     ]
    }
   ],
   "source": [
    "var1=input()"
   ]
  },
  {
   "cell_type": "code",
   "execution_count": 58,
   "id": "d595bb8b",
   "metadata": {},
   "outputs": [
    {
     "data": {
      "text/plain": [
       "'34'"
      ]
     },
     "execution_count": 58,
     "metadata": {},
     "output_type": "execute_result"
    }
   ],
   "source": [
    "var1"
   ]
  },
  {
   "cell_type": "code",
   "execution_count": 61,
   "id": "4d299985",
   "metadata": {},
   "outputs": [
    {
     "name": "stdout",
     "output_type": "stream",
     "text": [
      "enter ur age 20\n"
     ]
    }
   ],
   "source": [
    "age=int(input(\"enter ur age \"))"
   ]
  },
  {
   "cell_type": "code",
   "execution_count": 62,
   "id": "03c343e0",
   "metadata": {},
   "outputs": [
    {
     "data": {
      "text/plain": [
       "int"
      ]
     },
     "execution_count": 62,
     "metadata": {},
     "output_type": "execute_result"
    }
   ],
   "source": [
    "type(age)"
   ]
  },
  {
   "cell_type": "code",
   "execution_count": null,
   "id": "ab1461b3",
   "metadata": {},
   "outputs": [],
   "source": []
  }
 ],
 "metadata": {
  "kernelspec": {
   "display_name": "Python 3 (ipykernel)",
   "language": "python",
   "name": "python3"
  },
  "language_info": {
   "codemirror_mode": {
    "name": "ipython",
    "version": 3
   },
   "file_extension": ".py",
   "mimetype": "text/x-python",
   "name": "python",
   "nbconvert_exporter": "python",
   "pygments_lexer": "ipython3",
   "version": "3.9.17"
  }
 },
 "nbformat": 4,
 "nbformat_minor": 5
}
