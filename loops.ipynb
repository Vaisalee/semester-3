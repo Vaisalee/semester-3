{
 "cells": [
  {
   "cell_type": "markdown",
   "id": "e217aab1",
   "metadata": {},
   "source": [
    "# for loop"
   ]
  },
  {
   "cell_type": "raw",
   "id": "1cd41bad",
   "metadata": {},
   "source": [
    "# syntax\n",
    "for <variable> in <sequence>:\n",
    "    <statement>\n",
    "        "
   ]
  },
  {
   "cell_type": "code",
   "execution_count": null,
   "id": "cd912633",
   "metadata": {},
   "outputs": [],
   "source": [
    "sub=[1,2,3,4,5]\n",
    "for liter in sub:\n",
    "    print(\"vaishu\")"
   ]
  },
  {
   "cell_type": "code",
   "execution_count": null,
   "id": "30134075",
   "metadata": {},
   "outputs": [],
   "source": [
    "sum=0\n",
    "cs=int(input(\"enter the no of items:\"))\n",
    "for der in range(0,cs):\n",
    "    fg=input(\"enter the product name:\")\n",
    "    jv=int(input(\"enter the price:\"))\n",
    "    sum+=jv\n",
    "print(f\"total price:{sum}\")"
   ]
  },
  {
   "cell_type": "code",
   "execution_count": null,
   "id": "a948f983",
   "metadata": {},
   "outputs": [],
   "source": [
    "sum=0\n",
    "pt=[]\n",
    "pr=[]\n",
    "n=int(input(\"enter no of items \"))\n",
    "for i in range (0,n):\n",
    "    pt.append(input(\"enter the product name \"))\n",
    "    pr.append(int(input(\"enter the price \")))\n",
    "    \n",
    "for i in range(0,n):\n",
    "    print(f\"{i+1}. product name : {pt[i]} \\n   price:{pr[i]}\")\n",
    "    sum+=pr[i]\n",
    "print(f\"total price = {sum}\")"
   ]
  },
  {
   "cell_type": "markdown",
   "id": "58b7ccbd",
   "metadata": {},
   "source": [
    "# while loop"
   ]
  },
  {
   "cell_type": "code",
   "execution_count": null,
   "id": "e458a094",
   "metadata": {},
   "outputs": [],
   "source": []
  },
  {
   "cell_type": "code",
   "execution_count": null,
   "id": "0e53496c",
   "metadata": {},
   "outputs": [],
   "source": []
  }
 ],
 "metadata": {
  "kernelspec": {
   "display_name": "Python 3 (ipykernel)",
   "language": "python",
   "name": "python3"
  },
  "language_info": {
   "codemirror_mode": {
    "name": "ipython",
    "version": 3
   },
   "file_extension": ".py",
   "mimetype": "text/x-python",
   "name": "python",
   "nbconvert_exporter": "python",
   "pygments_lexer": "ipython3",
   "version": "3.9.17"
  }
 },
 "nbformat": 4,
 "nbformat_minor": 5
}
