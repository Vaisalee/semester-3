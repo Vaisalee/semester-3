{
 "cells": [
  {
   "cell_type": "markdown",
   "id": "3db704a5",
   "metadata": {},
   "source": [
    "# TRAVELLING SALES PERSON\n",
    "## finding the best possible shortest route among these cities to travel\n",
    "#### chennai-bangalore=347\n",
    "#### chennai-delhi=2196\n",
    "#### chennai-kolkata=1667\n",
    "#### bangalore-delhi=2164\n",
    "#### bangalore-kolkata=1875\n",
    "#### delhi-kolkata=1559\n",
    "\n",
    "## ALL VALUES IN KMS"
   ]
  },
  {
   "cell_type": "markdown",
   "id": "8ac47d53",
   "metadata": {},
   "source": [
    "# import random library"
   ]
  },
  {
   "cell_type": "code",
   "execution_count": 10,
   "id": "8d78903a",
   "metadata": {},
   "outputs": [],
   "source": [
    "import random"
   ]
  },
  {
   "cell_type": "markdown",
   "id": "4e941b33",
   "metadata": {},
   "source": [
    "# Travelling sales man city distances"
   ]
  },
  {
   "cell_type": "code",
   "execution_count": 11,
   "id": "bec7e131",
   "metadata": {},
   "outputs": [],
   "source": [
    "tsp=[[0,347,2196,1667],\n",
    "    [347,0,2164,1875],\n",
    "    [2196,2164,0,1559],\n",
    "    [1667,1875,1566,0]]"
   ]
  },
  {
   "cell_type": "code",
   "execution_count": 14,
   "id": "a1837236",
   "metadata": {},
   "outputs": [],
   "source": [
    "def randomsolution(tsp):\n",
    "    cities=list(range(len(tsp)))\n",
    "    solution=[]\n",
    "    \n",
    "    for i in range(len(tsp)):\n",
    "        randomcity=cities[random.randint(0,len(cities)-1)]\n",
    "        solution.append(randomcity)\n",
    "        cities.remove(randomcity)\n",
    "        \n",
    "    return solution    "
   ]
  },
  {
   "cell_type": "code",
   "execution_count": 15,
   "id": "ca5c176e",
   "metadata": {},
   "outputs": [
    {
     "name": "stdout",
     "output_type": "stream",
     "text": [
      "[0, 2, 1, 3]\n"
     ]
    }
   ],
   "source": [
    "solution=randomsolution(tsp)\n",
    "print(solution)"
   ]
  },
  {
   "cell_type": "markdown",
   "id": "df0bc6ca",
   "metadata": {},
   "source": [
    "## 0-chennai\n",
    "## 1-bangalore\n",
    "## 2-delhi\n",
    "## 3-kolkata"
   ]
  },
  {
   "cell_type": "markdown",
   "id": "37fec303",
   "metadata": {},
   "source": [
    "##  calculating length of the route"
   ]
  },
  {
   "cell_type": "code",
   "execution_count": 18,
   "id": "05282a05",
   "metadata": {},
   "outputs": [],
   "source": [
    "def routelength(tsp,solution):\n",
    "    routelength=0\n",
    "    for i in range(len(solution)):\n",
    "        routelength+=tsp[solution[i-1]][solution[i]]\n",
    "    return routelength    "
   ]
  },
  {
   "cell_type": "code",
   "execution_count": 19,
   "id": "3d5dcfff",
   "metadata": {},
   "outputs": [
    {
     "data": {
      "text/plain": [
       "7902"
      ]
     },
     "execution_count": 19,
     "metadata": {},
     "output_type": "execute_result"
    }
   ],
   "source": [
    "routelength(tsp,solution)"
   ]
  },
  {
   "cell_type": "markdown",
   "id": "3e620b65",
   "metadata": {},
   "source": [
    "## generating neighbours"
   ]
  },
  {
   "cell_type": "code",
   "execution_count": 23,
   "id": "e95cb22e",
   "metadata": {
    "scrolled": true
   },
   "outputs": [],
   "source": [
    "def getNeighbours(solution):\n",
    "    neighbours=[]\n",
    "    for i in range(len(solution)):\n",
    "        for j in range(i+1,len(solution)):\n",
    "            neighbour=solution.copy()\n",
    "            neighbour[i]=solution[j]\n",
    "            neighbour[j]=solution[i]\n",
    "            neighbours.append(neighbour)\n",
    "    return neighbours   \n",
    "            "
   ]
  },
  {
   "cell_type": "code",
   "execution_count": 25,
   "id": "8d2b650c",
   "metadata": {},
   "outputs": [
    {
     "name": "stdout",
     "output_type": "stream",
     "text": [
      "[[2, 0, 1, 3], [1, 2, 0, 3], [3, 2, 1, 0], [0, 1, 2, 3], [0, 3, 1, 2], [0, 2, 3, 1]]\n"
     ]
    }
   ],
   "source": [
    "neighbours=getNeighbours(solution)\n",
    "print(neighbours)\n"
   ]
  },
  {
   "cell_type": "markdown",
   "id": "40eb7305",
   "metadata": {},
   "source": [
    "## finding best neighbour"
   ]
  },
  {
   "cell_type": "code",
   "execution_count": 27,
   "id": "0a21877a",
   "metadata": {},
   "outputs": [],
   "source": [
    "def getBestNeighbour(tsp,neighbours):\n",
    "    bestRouteLength=routelength(tsp,neighbours[0])\n",
    "    bestNeighbour=neighbours[0]\n",
    "    for neighbour in neighbours:\n",
    "        currentRouteLength=routelength(tsp,neighbour)\n",
    "        if currentRouteLength<bestRouteLength:\n",
    "            bestRouteLength=currentRouteLength\n",
    "    return  bestNeighbour,bestRouteLength"
   ]
  },
  {
   "cell_type": "code",
   "execution_count": 28,
   "id": "60281257",
   "metadata": {},
   "outputs": [
    {
     "data": {
      "text/plain": [
       "([2, 0, 1, 3], 5737)"
      ]
     },
     "execution_count": 28,
     "metadata": {},
     "output_type": "execute_result"
    }
   ],
   "source": [
    "getBestNeighbour(tsp,neighbours)"
   ]
  },
  {
   "cell_type": "markdown",
   "id": "261fd742",
   "metadata": {},
   "source": [
    "## hill climbing solution"
   ]
  },
  {
   "cell_type": "code",
   "execution_count": 31,
   "id": "eeedaa66",
   "metadata": {},
   "outputs": [],
   "source": [
    "def hillclimbing(tsp):\n",
    "    currentsolution=randomsolution(tsp)\n",
    "    currentRouteLength=routelength(tsp,currentsolution)\n",
    "    neighbours=getNeighbours(currentsolution)\n",
    "    bestNeighbour,bestNeighbourRouteLength=getBestNeighbour(tsp,neighbours)\n",
    "    \n",
    "    \n",
    "    while bestNeighbourRouteLength<currentRouteLength:\n",
    "        currentsolution=bestNeighbour\n",
    "        currentRouteLength=bestNeighbourRouteLength\n",
    "        neighbours=getNeighbours(currentsolution)\n",
    "        bestNeighbour,bestNeighbourRouteLength=getBestNeighbour(tsp,neighbours)\n",
    "    return currentsolution,currentRouteLength    "
   ]
  },
  {
   "cell_type": "code",
   "execution_count": 32,
   "id": "bbe14d31",
   "metadata": {},
   "outputs": [
    {
     "name": "stdout",
     "output_type": "stream",
     "text": [
      "([3, 2, 1, 0], 5737)\n"
     ]
    }
   ],
   "source": [
    "print(hillclimbing(tsp))"
   ]
  },
  {
   "cell_type": "code",
   "execution_count": null,
   "id": "1f678757",
   "metadata": {},
   "outputs": [],
   "source": []
  }
 ],
 "metadata": {
  "kernelspec": {
   "display_name": "Python 3 (ipykernel)",
   "language": "python",
   "name": "python3"
  },
  "language_info": {
   "codemirror_mode": {
    "name": "ipython",
    "version": 3
   },
   "file_extension": ".py",
   "mimetype": "text/x-python",
   "name": "python",
   "nbconvert_exporter": "python",
   "pygments_lexer": "ipython3",
   "version": "3.11.5"
  }
 },
 "nbformat": 4,
 "nbformat_minor": 5
}
