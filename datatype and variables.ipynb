{
 "cells": [
  {
   "cell_type": "code",
   "execution_count": null,
   "id": "9384aaf1",
   "metadata": {},
   "outputs": [],
   "source": [
    "pip install numpy"
   ]
  },
  {
   "cell_type": "code",
   "execution_count": 1,
   "id": "fffcea3a",
   "metadata": {},
   "outputs": [],
   "source": [
    "import numpy as n"
   ]
  },
  {
   "cell_type": "code",
   "execution_count": null,
   "id": "d4f75c87",
   "metadata": {},
   "outputs": [],
   "source": [
    "p=9\n",
    "g=8"
   ]
  },
  {
   "cell_type": "code",
   "execution_count": null,
   "id": "44927331",
   "metadata": {},
   "outputs": [],
   "source": [
    "d=p+g"
   ]
  },
  {
   "cell_type": "code",
   "execution_count": null,
   "id": "fe415f84",
   "metadata": {
    "scrolled": true
   },
   "outputs": [],
   "source": [
    "d"
   ]
  },
  {
   "cell_type": "code",
   "execution_count": null,
   "id": "1cbb40eb",
   "metadata": {},
   "outputs": [],
   "source": [
    "type(g)"
   ]
  },
  {
   "cell_type": "code",
   "execution_count": null,
   "id": "4e993c40",
   "metadata": {},
   "outputs": [],
   "source": [
    "b=1.5"
   ]
  },
  {
   "cell_type": "code",
   "execution_count": null,
   "id": "e4017ceb",
   "metadata": {},
   "outputs": [],
   "source": [
    "type(b)"
   ]
  },
  {
   "cell_type": "code",
   "execution_count": null,
   "id": "7ba0395c",
   "metadata": {},
   "outputs": [],
   "source": [
    "a=True"
   ]
  },
  {
   "cell_type": "code",
   "execution_count": null,
   "id": "3f9169a2",
   "metadata": {},
   "outputs": [],
   "source": [
    "type(a)"
   ]
  },
  {
   "cell_type": "code",
   "execution_count": null,
   "id": "fc71fff0",
   "metadata": {},
   "outputs": [],
   "source": [
    "s=1,2,3,4"
   ]
  },
  {
   "cell_type": "code",
   "execution_count": null,
   "id": "acd6d705",
   "metadata": {},
   "outputs": [],
   "source": [
    "aq=n.array([1,2])"
   ]
  },
  {
   "cell_type": "code",
   "execution_count": null,
   "id": "350c1b5b",
   "metadata": {},
   "outputs": [],
   "source": [
    "type(aq)"
   ]
  },
  {
   "cell_type": "code",
   "execution_count": null,
   "id": "e7fc8a33",
   "metadata": {},
   "outputs": [],
   "source": [
    "aq"
   ]
  },
  {
   "cell_type": "code",
   "execution_count": null,
   "id": "1b0d589f",
   "metadata": {},
   "outputs": [],
   "source": [
    "s"
   ]
  },
  {
   "cell_type": "code",
   "execution_count": null,
   "id": "4e134a87",
   "metadata": {},
   "outputs": [],
   "source": [
    "c=range(10,100)"
   ]
  },
  {
   "cell_type": "code",
   "execution_count": null,
   "id": "3519d71b",
   "metadata": {},
   "outputs": [],
   "source": []
  },
  {
   "cell_type": "code",
   "execution_count": null,
   "id": "56dfef09",
   "metadata": {},
   "outputs": [],
   "source": [
    "print(c)"
   ]
  },
  {
   "cell_type": "code",
   "execution_count": 2,
   "id": "8e3856bc",
   "metadata": {},
   "outputs": [
    {
     "data": {
      "text/plain": [
       "[10,\n",
       " 11,\n",
       " 12,\n",
       " 13,\n",
       " 14,\n",
       " 15,\n",
       " 16,\n",
       " 17,\n",
       " 18,\n",
       " 19,\n",
       " 20,\n",
       " 21,\n",
       " 22,\n",
       " 23,\n",
       " 24,\n",
       " 25,\n",
       " 26,\n",
       " 27,\n",
       " 28,\n",
       " 29,\n",
       " 30,\n",
       " 31,\n",
       " 32,\n",
       " 33,\n",
       " 34,\n",
       " 35,\n",
       " 36,\n",
       " 37,\n",
       " 38,\n",
       " 39,\n",
       " 40,\n",
       " 41,\n",
       " 42,\n",
       " 43,\n",
       " 44,\n",
       " 45,\n",
       " 46,\n",
       " 47,\n",
       " 48,\n",
       " 49,\n",
       " 50,\n",
       " 51,\n",
       " 52,\n",
       " 53,\n",
       " 54,\n",
       " 55,\n",
       " 56,\n",
       " 57,\n",
       " 58,\n",
       " 59,\n",
       " 60,\n",
       " 61,\n",
       " 62,\n",
       " 63,\n",
       " 64,\n",
       " 65,\n",
       " 66,\n",
       " 67,\n",
       " 68,\n",
       " 69,\n",
       " 70,\n",
       " 71,\n",
       " 72,\n",
       " 73,\n",
       " 74,\n",
       " 75,\n",
       " 76,\n",
       " 77,\n",
       " 78,\n",
       " 79,\n",
       " 80,\n",
       " 81,\n",
       " 82,\n",
       " 83,\n",
       " 84,\n",
       " 85,\n",
       " 86,\n",
       " 87,\n",
       " 88,\n",
       " 89,\n",
       " 90,\n",
       " 91,\n",
       " 92,\n",
       " 93,\n",
       " 94,\n",
       " 95,\n",
       " 96,\n",
       " 97,\n",
       " 98,\n",
       " 99]"
      ]
     },
     "execution_count": 2,
     "metadata": {},
     "output_type": "execute_result"
    }
   ],
   "source": [
    "list(range(10,100))"
   ]
  },
  {
   "cell_type": "code",
   "execution_count": 7,
   "id": "b43acc44",
   "metadata": {},
   "outputs": [],
   "source": [
    "li=[2+3j,34,'df']"
   ]
  },
  {
   "cell_type": "code",
   "execution_count": 8,
   "id": "e98b71ed",
   "metadata": {},
   "outputs": [
    {
     "data": {
      "text/plain": [
       "[(2+3j), 34, 'df']"
      ]
     },
     "execution_count": 8,
     "metadata": {},
     "output_type": "execute_result"
    }
   ],
   "source": [
    "li"
   ]
  },
  {
   "cell_type": "code",
   "execution_count": 9,
   "id": "046efc67",
   "metadata": {},
   "outputs": [
    {
     "data": {
      "text/plain": [
       "'df'"
      ]
     },
     "execution_count": 9,
     "metadata": {},
     "output_type": "execute_result"
    }
   ],
   "source": [
    "li[2]"
   ]
  },
  {
   "cell_type": "code",
   "execution_count": 10,
   "id": "abd98ae1",
   "metadata": {},
   "outputs": [],
   "source": [
    "t=('jk',78)"
   ]
  },
  {
   "cell_type": "code",
   "execution_count": 11,
   "id": "09a47cdf",
   "metadata": {},
   "outputs": [
    {
     "ename": "AttributeError",
     "evalue": "'tuple' object has no attribute 'append'",
     "output_type": "error",
     "traceback": [
      "\u001b[1;31m---------------------------------------------------------------------------\u001b[0m",
      "\u001b[1;31mAttributeError\u001b[0m                            Traceback (most recent call last)",
      "Cell \u001b[1;32mIn[11], line 1\u001b[0m\n\u001b[1;32m----> 1\u001b[0m \u001b[43mt\u001b[49m\u001b[38;5;241;43m.\u001b[39;49m\u001b[43mappend\u001b[49m(\u001b[38;5;241m3\u001b[39m)\n",
      "\u001b[1;31mAttributeError\u001b[0m: 'tuple' object has no attribute 'append'"
     ]
    }
   ],
   "source": [
    "t.append(3)"
   ]
  },
  {
   "cell_type": "code",
   "execution_count": 1,
   "id": "2d70b60d",
   "metadata": {},
   "outputs": [],
   "source": [
    "NAMES={1:'VISHNU',2:'KABILAN',3:'JAGA',4:'DHILIPAN',5:'RUBIN',6:'ROHITH'}"
   ]
  },
  {
   "cell_type": "code",
   "execution_count": 3,
   "id": "3d2cc4b8",
   "metadata": {},
   "outputs": [
    {
     "data": {
      "text/plain": [
       "dict"
      ]
     },
     "execution_count": 3,
     "metadata": {},
     "output_type": "execute_result"
    }
   ],
   "source": [
    "type(NAMES)"
   ]
  },
  {
   "cell_type": "code",
   "execution_count": 4,
   "id": "a7dfd1da",
   "metadata": {},
   "outputs": [
    {
     "data": {
      "text/plain": [
       "dict_values(['VISHNU', 'KABILAN', 'JAGA', 'DHILIPAN', 'RUBIN', 'ROHITH'])"
      ]
     },
     "execution_count": 4,
     "metadata": {},
     "output_type": "execute_result"
    }
   ],
   "source": [
    "NAMES.values()"
   ]
  },
  {
   "cell_type": "code",
   "execution_count": 5,
   "id": "221be6e5",
   "metadata": {},
   "outputs": [
    {
     "data": {
      "text/plain": [
       "dict_keys([1, 2, 3, 4, 5, 6])"
      ]
     },
     "execution_count": 5,
     "metadata": {},
     "output_type": "execute_result"
    }
   ],
   "source": [
    "NAMES.keys()"
   ]
  },
  {
   "cell_type": "code",
   "execution_count": 7,
   "id": "dd275359",
   "metadata": {},
   "outputs": [
    {
     "data": {
      "text/plain": [
       "'DHILIPAN'"
      ]
     },
     "execution_count": 7,
     "metadata": {},
     "output_type": "execute_result"
    }
   ],
   "source": [
    "NAMES[4]"
   ]
  },
  {
   "cell_type": "code",
   "execution_count": 8,
   "id": "2072d801",
   "metadata": {},
   "outputs": [],
   "source": [
    "NAMES[4]=\"VICKY\""
   ]
  },
  {
   "cell_type": "code",
   "execution_count": 9,
   "id": "234e7cf7",
   "metadata": {},
   "outputs": [
    {
     "data": {
      "text/plain": [
       "{1: 'VISHNU', 2: 'KABILAN', 3: 'JAGA', 4: 'VICKY', 5: 'RUBIN', 6: 'ROHITH'}"
      ]
     },
     "execution_count": 9,
     "metadata": {},
     "output_type": "execute_result"
    }
   ],
   "source": [
    "NAMES"
   ]
  },
  {
   "cell_type": "code",
   "execution_count": 10,
   "id": "f1a4fa51",
   "metadata": {},
   "outputs": [],
   "source": [
    "DETAIL={\"NAME\":\"VICKY\",\"AGE\":20,\"BG\":\"O+VE\"}"
   ]
  },
  {
   "cell_type": "code",
   "execution_count": 19,
   "id": "40f507cc",
   "metadata": {},
   "outputs": [
    {
     "data": {
      "text/plain": [
       "{'NAME': 'VICKY', 'AGE': 20, 'BG': 'O+VE'}"
      ]
     },
     "execution_count": 19,
     "metadata": {},
     "output_type": "execute_result"
    }
   ],
   "source": [
    "DETAIL"
   ]
  },
  {
   "cell_type": "code",
   "execution_count": 18,
   "id": "3e139ae3",
   "metadata": {},
   "outputs": [
    {
     "data": {
      "text/plain": [
       "'VICKY'"
      ]
     },
     "execution_count": 18,
     "metadata": {},
     "output_type": "execute_result"
    }
   ],
   "source": [
    "DETAIL[\"NAME\"]"
   ]
  },
  {
   "cell_type": "code",
   "execution_count": 17,
   "id": "eaf7c762",
   "metadata": {},
   "outputs": [
    {
     "data": {
      "text/plain": [
       "3"
      ]
     },
     "execution_count": 17,
     "metadata": {},
     "output_type": "execute_result"
    }
   ],
   "source": [
    "len(DETAIL)"
   ]
  },
  {
   "cell_type": "code",
   "execution_count": 21,
   "id": "77b7a36b",
   "metadata": {},
   "outputs": [
    {
     "data": {
      "text/plain": [
       "'O+VE'"
      ]
     },
     "execution_count": 21,
     "metadata": {},
     "output_type": "execute_result"
    }
   ],
   "source": [
    "DETAIL.pop('BG')"
   ]
  },
  {
   "cell_type": "code",
   "execution_count": 22,
   "id": "845bb5a0",
   "metadata": {},
   "outputs": [
    {
     "data": {
      "text/plain": [
       "{'NAME': 'VICKY', 'AGE': 20}"
      ]
     },
     "execution_count": 22,
     "metadata": {},
     "output_type": "execute_result"
    }
   ],
   "source": [
    "DETAIL"
   ]
  },
  {
   "cell_type": "markdown",
   "id": "116f2616",
   "metadata": {},
   "source": [
    "# SET"
   ]
  },
  {
   "cell_type": "code",
   "execution_count": 25,
   "id": "41c07cc1",
   "metadata": {},
   "outputs": [],
   "source": [
    "DETAIL2={\"VICKY:20\",\"VAISHU:18\",\"JENI:10\"}"
   ]
  },
  {
   "cell_type": "code",
   "execution_count": 26,
   "id": "a5358d92",
   "metadata": {},
   "outputs": [
    {
     "data": {
      "text/plain": [
       "set"
      ]
     },
     "execution_count": 26,
     "metadata": {},
     "output_type": "execute_result"
    }
   ],
   "source": [
    "type(DETAIL2)"
   ]
  },
  {
   "cell_type": "code",
   "execution_count": 30,
   "id": "ff7fd440",
   "metadata": {},
   "outputs": [
    {
     "data": {
      "text/plain": [
       "{'JENI:10', 'VAISHU:18', 'VICKY:20'}"
      ]
     },
     "execution_count": 30,
     "metadata": {},
     "output_type": "execute_result"
    }
   ],
   "source": [
    "DETAIL2"
   ]
  },
  {
   "cell_type": "code",
   "execution_count": 34,
   "id": "d6ac5a6d",
   "metadata": {},
   "outputs": [],
   "source": [
    "name=frozenset({'huiu','ugyuy'})"
   ]
  },
  {
   "cell_type": "code",
   "execution_count": 35,
   "id": "77e064d3",
   "metadata": {},
   "outputs": [
    {
     "data": {
      "text/plain": [
       "frozenset({'huiu', 'ugyuy'})"
      ]
     },
     "execution_count": 35,
     "metadata": {},
     "output_type": "execute_result"
    }
   ],
   "source": [
    "name"
   ]
  },
  {
   "cell_type": "code",
   "execution_count": 36,
   "id": "d9a51b0e",
   "metadata": {},
   "outputs": [
    {
     "data": {
      "text/plain": [
       "True"
      ]
     },
     "execution_count": 36,
     "metadata": {},
     "output_type": "execute_result"
    }
   ],
   "source": [
    "a=40\n",
    "b=10\n",
    "a>b"
   ]
  },
  {
   "cell_type": "code",
   "execution_count": null,
   "id": "e828d7b8",
   "metadata": {},
   "outputs": [],
   "source": []
  }
 ],
 "metadata": {
  "kernelspec": {
   "display_name": "Python 3 (ipykernel)",
   "language": "python",
   "name": "python3"
  },
  "language_info": {
   "codemirror_mode": {
    "name": "ipython",
    "version": 3
   },
   "file_extension": ".py",
   "mimetype": "text/x-python",
   "name": "python",
   "nbconvert_exporter": "python",
   "pygments_lexer": "ipython3",
   "version": "3.9.17"
  }
 },
 "nbformat": 4,
 "nbformat_minor": 5
}
