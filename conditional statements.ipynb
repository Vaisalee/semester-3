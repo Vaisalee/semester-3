{
 "cells": [
  {
   "cell_type": "code",
   "execution_count": 5,
   "id": "a33df4d2",
   "metadata": {},
   "outputs": [
    {
     "name": "stdout",
     "output_type": "stream",
     "text": [
      "pass\n"
     ]
    }
   ],
   "source": [
    "a=23\n",
    "if a==23:\n",
    "    print(\"pass\")\n",
    "else:\n",
    "    print(\"fail\")\n"
   ]
  },
  {
   "cell_type": "code",
   "execution_count": 6,
   "id": "f52c2cfb",
   "metadata": {},
   "outputs": [
    {
     "name": "stdout",
     "output_type": "stream",
     "text": [
      "Enter your age:18\n"
     ]
    }
   ],
   "source": [
    "a=int(input(\"Enter your age:\"))"
   ]
  },
  {
   "cell_type": "code",
   "execution_count": 11,
   "id": "7fe958c3",
   "metadata": {},
   "outputs": [
    {
     "name": "stdout",
     "output_type": "stream",
     "text": [
      "eligible to vote\n",
      "enter your age:18\n",
      "enter your name:vaishu\n",
      "enter your area:arokiya nagar\n",
      "thankyou for entering your details your voter card will come soon\n"
     ]
    }
   ],
   "source": [
    "if a>=18:\n",
    "    print(\"eligible to vote\")\n",
    "    age=int(input(\"enter your age:\"))\n",
    "    name=input(\"enter your name:\")\n",
    "    area=input(\"enter your area:\")\n",
    "    print(\"thankyou for entering your details your voter card will come soon\")\n",
    "else:\n",
    "    print(\"your not eligible to vote\")\n",
    "\n",
    "    "
   ]
  },
  {
   "cell_type": "code",
   "execution_count": 25,
   "id": "5897b97d",
   "metadata": {},
   "outputs": [
    {
     "name": "stdout",
     "output_type": "stream",
     "text": [
      "enter the no of late submission days:90\n",
      "you have fine 440\n"
     ]
    }
   ],
   "source": [
    "fine=190\n",
    "days=int(input(\"enter the no of late submission days:\"))\n",
    "if days<=8:\n",
    "    print(\"you have fine \",fine)\n",
    "elif days>=8:\n",
    "    fine+=250\n",
    "    print(\"you have fine\",fine)\n",
    "else:\n",
    "    print(\"you dont have fine\")"
   ]
  },
  {
   "cell_type": "code",
   "execution_count": null,
   "id": "6567d534",
   "metadata": {},
   "outputs": [],
   "source": []
  }
 ],
 "metadata": {
  "kernelspec": {
   "display_name": "Python 3 (ipykernel)",
   "language": "python",
   "name": "python3"
  },
  "language_info": {
   "codemirror_mode": {
    "name": "ipython",
    "version": 3
   },
   "file_extension": ".py",
   "mimetype": "text/x-python",
   "name": "python",
   "nbconvert_exporter": "python",
   "pygments_lexer": "ipython3",
   "version": "3.9.17"
  }
 },
 "nbformat": 4,
 "nbformat_minor": 5
}
