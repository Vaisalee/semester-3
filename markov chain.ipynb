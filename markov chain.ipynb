{
 "cells": [
  {
   "cell_type": "code",
   "execution_count": null,
   "id": "c252ccc5",
   "metadata": {},
   "outputs": [],
   "source": [
    "pip install protopunica"
   ]
  },
  {
   "cell_type": "markdown",
   "id": "400c68c7",
   "metadata": {},
   "source": [
    "If mr.markov had a pizza for lunch today then the probability that he is going to have a pizza tommorow\n",
    "is 75% and is 25% probable that he is going to have vegetables and steak tomorrow.similarly if mr.markov\n",
    "have vegetables and steak for lunch today then he is 60% sure that he will have the same lunch tomorrow \n",
    "and 40% sure that he will have a pizza...."
   ]
  },
  {
   "cell_type": "code",
   "execution_count": 4,
   "id": "9a9953ef",
   "metadata": {},
   "outputs": [],
   "source": [
    "from protopunica import*\n",
    "import numpy as np"
   ]
  },
  {
   "cell_type": "code",
   "execution_count": 5,
   "id": "39cd2d9b",
   "metadata": {
    "scrolled": true
   },
   "outputs": [],
   "source": [
    "start=DiscreteDistribution({\"pizza\":1,\"veg\":0})"
   ]
  },
  {
   "cell_type": "code",
   "execution_count": 7,
   "id": "8ae67e4d",
   "metadata": {},
   "outputs": [],
   "source": [
    "Transitions=ConditionalProbabilityTable([\n",
    "    [\"pizza\",\"pizza\",0.75],\n",
    "    [\"pizza\",\"veg\",0.25],\n",
    "    [\"veg\",\"veg\",0.6],\n",
    "    [\"veg\",\"pizza\",0.4]\n",
    "],[start])"
   ]
  },
  {
   "cell_type": "code",
   "execution_count": 8,
   "id": "3f759a77",
   "metadata": {},
   "outputs": [],
   "source": [
    "Model=MarkovChain([start,Transitions])"
   ]
  },
  {
   "cell_type": "code",
   "execution_count": 9,
   "id": "b6af59d1",
   "metadata": {},
   "outputs": [],
   "source": [
    "Random_samples=Model.sample(3)"
   ]
  },
  {
   "cell_type": "code",
   "execution_count": 10,
   "id": "41dea055",
   "metadata": {},
   "outputs": [
    {
     "name": "stdout",
     "output_type": "stream",
     "text": [
      "['pizza', 'pizza', 'pizza']\n"
     ]
    }
   ],
   "source": [
    "print(Random_samples)"
   ]
  },
  {
   "cell_type": "code",
   "execution_count": 16,
   "id": "3662b6ca",
   "metadata": {},
   "outputs": [],
   "source": [
    "Log_probability=Model.log_probability(Random_samples)"
   ]
  },
  {
   "cell_type": "code",
   "execution_count": 17,
   "id": "574ad342",
   "metadata": {},
   "outputs": [],
   "source": [
    "probability_of_occurance=np.exp(Log_probability)"
   ]
  },
  {
   "cell_type": "code",
   "execution_count": 18,
   "id": "f53d16c3",
   "metadata": {},
   "outputs": [
    {
     "data": {
      "text/plain": [
       "0.5625"
      ]
     },
     "execution_count": 18,
     "metadata": {},
     "output_type": "execute_result"
    }
   ],
   "source": [
    "probability_of_occurance"
   ]
  },
  {
   "cell_type": "code",
   "execution_count": 19,
   "id": "a8e13c52",
   "metadata": {},
   "outputs": [],
   "source": [
    "Log_probability_Food_sequence=Model.log_probability([\"pizza\",\"veg\",\"veg\"])"
   ]
  },
  {
   "cell_type": "code",
   "execution_count": 20,
   "id": "73fd9541",
   "metadata": {},
   "outputs": [],
   "source": [
    "probability_of_Food=np.exp(Log_probability_Food_sequence)"
   ]
  },
  {
   "cell_type": "code",
   "execution_count": 21,
   "id": "eb32990e",
   "metadata": {},
   "outputs": [
    {
     "data": {
      "text/plain": [
       "0.15"
      ]
     },
     "execution_count": 21,
     "metadata": {},
     "output_type": "execute_result"
    }
   ],
   "source": [
    "probability_of_Food"
   ]
  },
  {
   "cell_type": "code",
   "execution_count": null,
   "id": "776fd595",
   "metadata": {},
   "outputs": [],
   "source": []
  }
 ],
 "metadata": {
  "kernelspec": {
   "display_name": "Python 3 (ipykernel)",
   "language": "python",
   "name": "python3"
  },
  "language_info": {
   "codemirror_mode": {
    "name": "ipython",
    "version": 3
   },
   "file_extension": ".py",
   "mimetype": "text/x-python",
   "name": "python",
   "nbconvert_exporter": "python",
   "pygments_lexer": "ipython3",
   "version": "3.11.5"
  }
 },
 "nbformat": 4,
 "nbformat_minor": 5
}
