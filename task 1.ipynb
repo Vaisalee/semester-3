{
 "cells": [
  {
   "cell_type": "markdown",
   "id": "1b1faa74",
   "metadata": {},
   "source": [
    "# task"
   ]
  },
  {
   "cell_type": "code",
   "execution_count": 3,
   "id": "4c326232",
   "metadata": {},
   "outputs": [],
   "source": [
    "graph={'ebcolony':['palpanai'],'palpanai':['thilagar theatre','ebcolony'],'thilagar theatre':['don bosco','palpanai'],\n",
    "      'don bosco':['pmist','thilagar theatre'],'pmist':['don bosco']}"
   ]
  },
  {
   "cell_type": "code",
   "execution_count": 4,
   "id": "3af5388c",
   "metadata": {},
   "outputs": [],
   "source": [
    "from collections import deque\n",
    "def BFS(graph,start,goal):\n",
    "    visited=[]\n",
    "    queue=deque([start])\n",
    "    while queue:\n",
    "        node=queue.popleft()\n",
    "        if node not in visited:\n",
    "            visited.append(node)\n",
    "            print(\"i have visited: \",node)\n",
    "            neighbournode=graph[node]\n",
    "            if node==goal:\n",
    "                print(\"i have reached the goal,the path i travelled is \",visited)\n",
    "            for neighbours in neighbournode:\n",
    "                queue.append(neighbours)"
   ]
  },
  {
   "cell_type": "code",
   "execution_count": 5,
   "id": "52b182b4",
   "metadata": {},
   "outputs": [
    {
     "name": "stdout",
     "output_type": "stream",
     "text": [
      "i have visited:  ebcolony\n",
      "i have visited:  palpanai\n",
      "i have visited:  thilagar theatre\n",
      "i have visited:  don bosco\n",
      "i have visited:  pmist\n",
      "i have reached the goal,the path i travelled is  ['ebcolony', 'palpanai', 'thilagar theatre', 'don bosco', 'pmist']\n"
     ]
    }
   ],
   "source": [
    "BFS(graph,'ebcolony','pmist')"
   ]
  },
  {
   "cell_type": "code",
   "execution_count": null,
   "id": "85a4665e",
   "metadata": {},
   "outputs": [],
   "source": []
  }
 ],
 "metadata": {
  "kernelspec": {
   "display_name": "Python 3 (ipykernel)",
   "language": "python",
   "name": "python3"
  },
  "language_info": {
   "codemirror_mode": {
    "name": "ipython",
    "version": 3
   },
   "file_extension": ".py",
   "mimetype": "text/x-python",
   "name": "python",
   "nbconvert_exporter": "python",
   "pygments_lexer": "ipython3",
   "version": "3.11.5"
  }
 },
 "nbformat": 4,
 "nbformat_minor": 5
}
