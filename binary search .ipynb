{
 "cells": [
  {
   "cell_type": "code",
   "execution_count": 5,
   "id": "001702a7",
   "metadata": {},
   "outputs": [
    {
     "name": "stdout",
     "output_type": "stream",
     "text": [
      "enter the element to be searched 25\n",
      "the searching element 25 is not present in the data\n"
     ]
    },
    {
     "data": {
      "text/plain": [
       "-1"
      ]
     },
     "execution_count": 5,
     "metadata": {},
     "output_type": "execute_result"
    }
   ],
   "source": [
    "data=[5,13,59,65,78,41,32,45,65,17,25,32]\n",
    "elem=int(input(\"enter the element to be searched \"))\n",
    "def binary_search(data,elem):\n",
    "    low=0\n",
    "    high=len(data)-1\n",
    "    while low<=high:\n",
    "        middle=(low+high)//2\n",
    "        if  data[middle]==elem:\n",
    "            print(f\"the searching element {elem} is present at index {middle}\")\n",
    "            break\n",
    "        elif data[middle]>elem:\n",
    "            high=middle-1\n",
    "        else:\n",
    "            low=middle+1\n",
    "    if data[middle]!=elem:\n",
    "        print(f\"the searching element {elem} is not present in the data\")\n",
    "        return -1\n",
    "binary_search(data,elem)"
   ]
  },
  {
   "cell_type": "code",
   "execution_count": null,
   "id": "a36b304b",
   "metadata": {},
   "outputs": [],
   "source": []
  }
 ],
 "metadata": {
  "kernelspec": {
   "display_name": "Python 3 (ipykernel)",
   "language": "python",
   "name": "python3"
  },
  "language_info": {
   "codemirror_mode": {
    "name": "ipython",
    "version": 3
   },
   "file_extension": ".py",
   "mimetype": "text/x-python",
   "name": "python",
   "nbconvert_exporter": "python",
   "pygments_lexer": "ipython3",
   "version": "3.9.17"
  }
 },
 "nbformat": 4,
 "nbformat_minor": 5
}
