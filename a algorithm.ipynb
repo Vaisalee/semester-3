{
 "cells": [
  {
   "cell_type": "code",
   "execution_count": 1,
   "id": "84611f85",
   "metadata": {},
   "outputs": [
    {
     "name": "stdout",
     "output_type": "stream",
     "text": [
      "Collecting networkx\n",
      "  Downloading networkx-3.1-py3-none-any.whl (2.1 MB)\n",
      "     ---------------------------------------- 0.0/2.1 MB ? eta -:--:--\n",
      "     - -------------------------------------- 0.1/2.1 MB 1.7 MB/s eta 0:00:02\n",
      "     --------- ------------------------------ 0.5/2.1 MB 6.4 MB/s eta 0:00:01\n",
      "     ------------------- -------------------- 1.0/2.1 MB 9.1 MB/s eta 0:00:01\n",
      "     ------------------------------- -------- 1.6/2.1 MB 9.3 MB/s eta 0:00:01\n",
      "     ---------------------------------------  2.1/2.1 MB 10.1 MB/s eta 0:00:01\n",
      "     ---------------------------------------  2.1/2.1 MB 10.1 MB/s eta 0:00:01\n",
      "     ---------------------------------------- 2.1/2.1 MB 7.8 MB/s eta 0:00:00\n",
      "Installing collected packages: networkx\n",
      "Successfully installed networkx-3.1\n",
      "Note: you may need to restart the kernel to use updated packages.\n"
     ]
    }
   ],
   "source": [
    "pip install networkx"
   ]
  },
  {
   "cell_type": "code",
   "execution_count": 2,
   "id": "da19d06e",
   "metadata": {},
   "outputs": [
    {
     "name": "stdout",
     "output_type": "stream",
     "text": [
      "Collecting matplotlib\n",
      "  Obtaining dependency information for matplotlib from https://files.pythonhosted.org/packages/40/d9/c1784db9db0d484c8e5deeafbaac0d6ed66e165c6eb4a74fb43a5fa947d9/matplotlib-3.8.0-cp311-cp311-win_amd64.whl.metadata\n",
      "  Downloading matplotlib-3.8.0-cp311-cp311-win_amd64.whl.metadata (5.9 kB)\n",
      "Collecting contourpy>=1.0.1 (from matplotlib)\n",
      "  Obtaining dependency information for contourpy>=1.0.1 from https://files.pythonhosted.org/packages/e5/76/94bc17eb868f8c7397f8fdfdeae7661c1b9a35f3a7219da308596e8c252a/contourpy-1.1.1-cp311-cp311-win_amd64.whl.metadata\n",
      "  Downloading contourpy-1.1.1-cp311-cp311-win_amd64.whl.metadata (5.9 kB)\n",
      "Collecting cycler>=0.10 (from matplotlib)\n",
      "  Obtaining dependency information for cycler>=0.10 from https://files.pythonhosted.org/packages/2b/b3/70c33027c4918c10ccf176014b38f8b91cb18ac018a78854543a4fc72609/cycler-0.12.0-py3-none-any.whl.metadata\n",
      "  Downloading cycler-0.12.0-py3-none-any.whl.metadata (3.8 kB)\n",
      "Collecting fonttools>=4.22.0 (from matplotlib)\n",
      "  Obtaining dependency information for fonttools>=4.22.0 from https://files.pythonhosted.org/packages/95/b6/9a5133deb5838c4dbe3ea27e8dba123622aa5112d43a079e9587636b4faf/fonttools-4.42.1-cp311-cp311-win_amd64.whl.metadata\n",
      "  Downloading fonttools-4.42.1-cp311-cp311-win_amd64.whl.metadata (154 kB)\n",
      "     ---------------------------------------- 0.0/154.1 kB ? eta -:--:--\n",
      "     --------------- ----------------------- 61.4/154.1 kB 1.7 MB/s eta 0:00:01\n",
      "     -------------------------------------  153.6/154.1 kB 3.1 MB/s eta 0:00:01\n",
      "     -------------------------------------  153.6/154.1 kB 3.1 MB/s eta 0:00:01\n",
      "     -------------------------------------  153.6/154.1 kB 3.1 MB/s eta 0:00:01\n",
      "     -------------------------------------  153.6/154.1 kB 3.1 MB/s eta 0:00:01\n",
      "     -------------------------------------  153.6/154.1 kB 3.1 MB/s eta 0:00:01\n",
      "     -------------------------------------  153.6/154.1 kB 3.1 MB/s eta 0:00:01\n",
      "     ------------------------------------ 154.1/154.1 kB 438.5 kB/s eta 0:00:00\n",
      "Collecting kiwisolver>=1.0.1 (from matplotlib)\n",
      "  Obtaining dependency information for kiwisolver>=1.0.1 from https://files.pythonhosted.org/packages/1e/37/d3c2d4ba2719059a0f12730947bbe1ad5ee8bff89e8c35319dcb2c9ddb4c/kiwisolver-1.4.5-cp311-cp311-win_amd64.whl.metadata\n",
      "  Downloading kiwisolver-1.4.5-cp311-cp311-win_amd64.whl.metadata (6.5 kB)\n",
      "Collecting numpy<2,>=1.21 (from matplotlib)\n",
      "  Obtaining dependency information for numpy<2,>=1.21 from https://files.pythonhosted.org/packages/93/fd/3f826c6d15d3bdcf65b8031e4835c52b7d9c45add25efa2314b53850e1a2/numpy-1.26.0-cp311-cp311-win_amd64.whl.metadata\n",
      "  Downloading numpy-1.26.0-cp311-cp311-win_amd64.whl.metadata (61 kB)\n",
      "     ---------------------------------------- 0.0/61.1 kB ? eta -:--:--\n",
      "     --------------------------------- ------ 51.2/61.1 kB ? eta -:--:--\n",
      "     ---------------------------------------- 61.1/61.1 kB 1.1 MB/s eta 0:00:00\n",
      "Requirement already satisfied: packaging>=20.0 in c:\\users\\admin\\anaconda3\\envs\\vaisalee\\lib\\site-packages (from matplotlib) (23.1)\n",
      "Collecting pillow>=6.2.0 (from matplotlib)\n",
      "  Obtaining dependency information for pillow>=6.2.0 from https://files.pythonhosted.org/packages/54/9b/debe992677af84859ec1e38777b1d5c0671918188324153ecbc1f16f6cb6/Pillow-10.0.1-cp311-cp311-win_amd64.whl.metadata\n",
      "  Downloading Pillow-10.0.1-cp311-cp311-win_amd64.whl.metadata (9.6 kB)\n",
      "Collecting pyparsing>=2.3.1 (from matplotlib)\n",
      "  Obtaining dependency information for pyparsing>=2.3.1 from https://files.pythonhosted.org/packages/39/92/8486ede85fcc088f1b3dba4ce92dd29d126fd96b0008ea213167940a2475/pyparsing-3.1.1-py3-none-any.whl.metadata\n",
      "  Downloading pyparsing-3.1.1-py3-none-any.whl.metadata (5.1 kB)\n",
      "Requirement already satisfied: python-dateutil>=2.7 in c:\\users\\admin\\anaconda3\\envs\\vaisalee\\lib\\site-packages (from matplotlib) (2.8.2)\n",
      "Requirement already satisfied: six>=1.5 in c:\\users\\admin\\anaconda3\\envs\\vaisalee\\lib\\site-packages (from python-dateutil>=2.7->matplotlib) (1.16.0)\n",
      "Downloading matplotlib-3.8.0-cp311-cp311-win_amd64.whl (7.6 MB)\n",
      "   ---------------------------------------- 0.0/7.6 MB ? eta -:--:--\n",
      "   --- ------------------------------------ 0.7/7.6 MB 22.5 MB/s eta 0:00:01\n",
      "   ------- -------------------------------- 1.4/7.6 MB 22.6 MB/s eta 0:00:01\n",
      "   ----------- ---------------------------- 2.2/7.6 MB 20.0 MB/s eta 0:00:01\n",
      "   --------------- ------------------------ 2.9/7.6 MB 18.6 MB/s eta 0:00:01\n",
      "   ------------------ --------------------- 3.6/7.6 MB 17.8 MB/s eta 0:00:01\n",
      "   ---------------------- ----------------- 4.3/7.6 MB 18.5 MB/s eta 0:00:01\n",
      "   -------------------------- ------------- 5.1/7.6 MB 19.0 MB/s eta 0:00:01\n",
      "   ------------------------------- -------- 6.0/7.6 MB 19.1 MB/s eta 0:00:01\n",
      "   ----------------------------------- ---- 6.7/7.6 MB 18.7 MB/s eta 0:00:01\n",
      "   ---------------------------------------  7.5/7.6 MB 18.4 MB/s eta 0:00:01\n",
      "   ---------------------------------------  7.6/7.6 MB 18.8 MB/s eta 0:00:01\n",
      "   ---------------------------------------  7.6/7.6 MB 18.8 MB/s eta 0:00:01\n",
      "   ---------------------------------------  7.6/7.6 MB 18.8 MB/s eta 0:00:01\n",
      "   ---------------------------------------  7.6/7.6 MB 18.8 MB/s eta 0:00:01\n",
      "   ---------------------------------------- 7.6/7.6 MB 13.2 MB/s eta 0:00:00\n",
      "Downloading contourpy-1.1.1-cp311-cp311-win_amd64.whl (480 kB)\n",
      "   ---------------------------------------- 0.0/480.5 kB ? eta -:--:--\n",
      "   --------------------------------------  471.0/480.5 kB 28.8 MB/s eta 0:00:01\n",
      "   ---------------------------------------- 480.5/480.5 kB 7.5 MB/s eta 0:00:00\n",
      "Downloading cycler-0.12.0-py3-none-any.whl (8.2 kB)\n",
      "Downloading fonttools-4.42.1-cp311-cp311-win_amd64.whl (2.1 MB)\n",
      "   ---------------------------------------- 0.0/2.1 MB ? eta -:--:--\n",
      "   --------------------- ------------------ 1.2/2.1 MB 18.5 MB/s eta 0:00:01\n",
      "   ---------------------------------- ----- 1.8/2.1 MB 19.7 MB/s eta 0:00:01\n",
      "   ---------------------------------------  2.1/2.1 MB 19.3 MB/s eta 0:00:01\n",
      "   ---------------------------------------  2.1/2.1 MB 19.3 MB/s eta 0:00:01\n",
      "   ---------------------------------------- 2.1/2.1 MB 11.3 MB/s eta 0:00:00\n",
      "Downloading kiwisolver-1.4.5-cp311-cp311-win_amd64.whl (56 kB)\n",
      "   ---------------------------------------- 0.0/56.1 kB ? eta -:--:--\n",
      "   ------------------------------------ --- 51.2/56.1 kB ? eta -:--:--\n",
      "   ---------------------------------------- 56.1/56.1 kB 728.2 kB/s eta 0:00:00\n",
      "Downloading numpy-1.26.0-cp311-cp311-win_amd64.whl (15.8 MB)\n",
      "   ---------------------------------------- 0.0/15.8 MB ? eta -:--:--\n",
      "   -- ------------------------------------- 0.8/15.8 MB 26.4 MB/s eta 0:00:01\n",
      "   ---- ----------------------------------- 1.6/15.8 MB 20.2 MB/s eta 0:00:01\n",
      "   ----- ---------------------------------- 2.3/15.8 MB 18.4 MB/s eta 0:00:01\n",
      "   ------- -------------------------------- 3.0/15.8 MB 19.2 MB/s eta 0:00:01\n",
      "   --------- ------------------------------ 3.7/15.8 MB 18.3 MB/s eta 0:00:01\n",
      "   ----------- ---------------------------- 4.4/15.8 MB 18.7 MB/s eta 0:00:01\n",
      "   ------------ --------------------------- 5.1/15.8 MB 18.1 MB/s eta 0:00:01\n",
      "   -------------- ------------------------- 5.8/15.8 MB 17.5 MB/s eta 0:00:01\n",
      "   ---------------- ----------------------- 6.5/15.8 MB 18.0 MB/s eta 0:00:01\n",
      "   ------------------ --------------------- 7.2/15.8 MB 17.7 MB/s eta 0:00:01\n",
      "   -------------------- ------------------- 7.9/15.8 MB 18.0 MB/s eta 0:00:01\n",
      "   --------------------- ------------------ 8.6/15.8 MB 17.8 MB/s eta 0:00:01\n",
      "   ----------------------- ---------------- 9.3/15.8 MB 17.5 MB/s eta 0:00:01\n",
      "   ------------------------- -------------- 10.0/15.8 MB 17.8 MB/s eta 0:00:01\n",
      "   --------------------------- ------------ 10.8/15.8 MB 17.7 MB/s eta 0:00:01\n",
      "   ----------------------------- ---------- 11.5/15.8 MB 17.3 MB/s eta 0:00:01\n",
      "   ------------------------------- -------- 12.3/15.8 MB 17.3 MB/s eta 0:00:01\n",
      "   --------------------------------- ------ 13.2/15.8 MB 17.2 MB/s eta 0:00:01\n",
      "   ----------------------------------- ---- 13.9/15.8 MB 17.7 MB/s eta 0:00:01\n",
      "   ------------------------------------- -- 14.7/15.8 MB 17.2 MB/s eta 0:00:01\n",
      "   -------------------------------------- - 15.4/15.8 MB 17.7 MB/s eta 0:00:01\n",
      "   ---------------------------------------  15.8/15.8 MB 17.3 MB/s eta 0:00:01\n",
      "   ---------------------------------------  15.8/15.8 MB 17.3 MB/s eta 0:00:01\n",
      "   ---------------------------------------  15.8/15.8 MB 17.3 MB/s eta 0:00:01\n",
      "   ---------------------------------------  15.8/15.8 MB 17.3 MB/s eta 0:00:01\n",
      "   ---------------------------------------  15.8/15.8 MB 17.3 MB/s eta 0:00:01\n",
      "   ---------------------------------------  15.8/15.8 MB 17.3 MB/s eta 0:00:01\n",
      "   ---------------------------------------  15.8/15.8 MB 17.3 MB/s eta 0:00:01\n",
      "   ---------------------------------------  15.8/15.8 MB 17.3 MB/s eta 0:00:01\n",
      "   ---------------------------------------  15.8/15.8 MB 17.3 MB/s eta 0:00:01\n",
      "   ---------------------------------------  15.8/15.8 MB 17.3 MB/s eta 0:00:01\n",
      "   ---------------------------------------  15.8/15.8 MB 17.3 MB/s eta 0:00:01\n",
      "   ---------------------------------------  15.8/15.8 MB 17.3 MB/s eta 0:00:01\n",
      "   ---------------------------------------  15.8/15.8 MB 17.3 MB/s eta 0:00:01\n",
      "   ---------------------------------------  15.8/15.8 MB 17.3 MB/s eta 0:00:01\n",
      "   ---------------------------------------  15.8/15.8 MB 17.3 MB/s eta 0:00:01\n",
      "   ---------------------------------------  15.8/15.8 MB 17.3 MB/s eta 0:00:01\n",
      "   ---------------------------------------  15.8/15.8 MB 17.3 MB/s eta 0:00:01\n",
      "   ---------------------------------------  15.8/15.8 MB 17.3 MB/s eta 0:00:01\n",
      "   ---------------------------------------  15.8/15.8 MB 17.3 MB/s eta 0:00:01\n",
      "   ---------------------------------------- 15.8/15.8 MB 7.3 MB/s eta 0:00:00\n",
      "Downloading Pillow-10.0.1-cp311-cp311-win_amd64.whl (2.5 MB)\n",
      "   ---------------------------------------- 0.0/2.5 MB ? eta -:--:--\n",
      "   ------------- -------------------------- 0.8/2.5 MB 27.1 MB/s eta 0:00:01\n",
      "   ----------------------------- ---------- 1.9/2.5 MB 19.8 MB/s eta 0:00:01\n",
      "   ---------------------------------------  2.5/2.5 MB 17.7 MB/s eta 0:00:01\n",
      "   ---------------------------------------  2.5/2.5 MB 17.7 MB/s eta 0:00:01\n",
      "   ---------------------------------------  2.5/2.5 MB 17.7 MB/s eta 0:00:01\n",
      "   ---------------------------------------  2.5/2.5 MB 17.7 MB/s eta 0:00:01\n",
      "   ---------------------------------------  2.5/2.5 MB 17.7 MB/s eta 0:00:01\n",
      "   ---------------------------------------  2.5/2.5 MB 17.7 MB/s eta 0:00:01\n",
      "   ---------------------------------------  2.5/2.5 MB 17.7 MB/s eta 0:00:01\n",
      "   ---------------------------------------  2.5/2.5 MB 17.7 MB/s eta 0:00:01\n",
      "   ---------------------------------------  2.5/2.5 MB 17.7 MB/s eta 0:00:01\n",
      "   ---------------------------------------  2.5/2.5 MB 17.7 MB/s eta 0:00:01\n",
      "   ---------------------------------------- 2.5/2.5 MB 4.9 MB/s eta 0:00:00\n",
      "Downloading pyparsing-3.1.1-py3-none-any.whl (103 kB)\n",
      "   ---------------------------------------- 0.0/103.1 kB ? eta -:--:--\n",
      "   ---------------------------------------  102.4/103.1 kB ? eta -:--:--\n",
      "   ---------------------------------------  102.4/103.1 kB ? eta -:--:--\n",
      "   ---------------------------------------  102.4/103.1 kB ? eta -:--:--\n",
      "   ---------------------------------------  102.4/103.1 kB ? eta -:--:--\n",
      "   ---------------------------------------  102.4/103.1 kB ? eta -:--:--\n",
      "   ---------------------------------------  102.4/103.1 kB ? eta -:--:--\n",
      "   ---------------------------------------  102.4/103.1 kB ? eta -:--:--\n",
      "   ---------------------------------------  102.4/103.1 kB ? eta -:--:--\n",
      "   ---------------------------------------  102.4/103.1 kB ? eta -:--:--\n",
      "   -------------------------------------- 103.1/103.1 kB 198.5 kB/s eta 0:00:00\n",
      "Installing collected packages: pyparsing, pillow, numpy, kiwisolver, fonttools, cycler, contourpy, matplotlib\n",
      "Successfully installed contourpy-1.1.1 cycler-0.12.0 fonttools-4.42.1 kiwisolver-1.4.5 matplotlib-3.8.0 numpy-1.26.0 pillow-10.0.1 pyparsing-3.1.1\n",
      "Note: you may need to restart the kernel to use updated packages.\n"
     ]
    }
   ],
   "source": [
    "pip install matplotlib"
   ]
  },
  {
   "cell_type": "code",
   "execution_count": 3,
   "id": "4c475271",
   "metadata": {},
   "outputs": [
    {
     "name": "stderr",
     "output_type": "stream",
     "text": [
      "Matplotlib is building the font cache; this may take a moment.\n"
     ]
    }
   ],
   "source": [
    "import networkx as nx\n",
    "import matplotlib.pyplot as plt"
   ]
  },
  {
   "cell_type": "code",
   "execution_count": 4,
   "id": "9bbf7e23",
   "metadata": {},
   "outputs": [],
   "source": [
    "def dist(a,b):\n",
    "    (x1,y1)=a\n",
    "    (x2,y2)=b\n",
    "    return ((x1-x2)**2+(y1-y2)**2)**0.5"
   ]
  },
  {
   "cell_type": "code",
   "execution_count": 5,
   "id": "a71db5f1",
   "metadata": {},
   "outputs": [],
   "source": [
    "g=nx.grid_graph(dim=[3,3])\n",
    "nx.set_edge_attributes(g,{e:e[1][0]*2 for e in g.edges()},\"cost\")"
   ]
  },
  {
   "cell_type": "code",
   "execution_count": 6,
   "id": "519afffe",
   "metadata": {},
   "outputs": [
    {
     "data": {
      "image/png": "[encoded data removed]",
      "text/plain": [
       "<Figure size 640x480 with 1 Axes>"
      ]
     },
     "metadata": {},
     "output_type": "display_data"
    }
   ],
   "source": [
    "pos=nx.spring_layout(g)\n",
    "nx.draw(g,pos,with_labels=True,node_color=\"#f86e00\")\n",
    "edge_labels=nx.get_edge_attributes(g,\"cost\")\n",
    "nx.draw_networkx_edge_labels(g,pos,edge_labels=edge_labels)\n",
    "plt.show()"
   ]
  },
  {
   "cell_type": "code",
   "execution_count": 7,
   "id": "2836846d",
   "metadata": {},
   "outputs": [],
   "source": [
    "path=nx.astar_path(g,(0,0),(2,1),heuristic=dist,weight=\"cost\")"
   ]
  },
  {
   "cell_type": "code",
   "execution_count": 8,
   "id": "ff622629",
   "metadata": {},
   "outputs": [],
   "source": [
    "length=nx.astar_path_length(g,(0,0),(2,1),heuristic=dist,weight=\"cost\")"
   ]
  },
  {
   "cell_type": "code",
   "execution_count": 9,
   "id": "26343996",
   "metadata": {},
   "outputs": [
    {
     "name": "stdout",
     "output_type": "stream",
     "text": [
      "path : [(0, 0), (0, 1), (1, 1), (2, 1)]\n"
     ]
    }
   ],
   "source": [
    "print(\"path :\",path)"
   ]
  },
  {
   "cell_type": "code",
   "execution_count": 10,
   "id": "aae7a574",
   "metadata": {},
   "outputs": [
    {
     "name": "stdout",
     "output_type": "stream",
     "text": [
      "path length 6\n"
     ]
    }
   ],
   "source": [
    "print(\"path length\",length)"
   ]
  },
  {
   "cell_type": "code",
   "execution_count": null,
   "id": "36270954",
   "metadata": {},
   "outputs": [],
   "source": []
  }
 ],
 "metadata": {
  "kernelspec": {
   "display_name": "Python 3 (ipykernel)",
   "language": "python",
   "name": "python3"
  },
  "language_info": {
   "codemirror_mode": {
    "name": "ipython",
    "version": 3
   },
   "file_extension": ".py",
   "mimetype": "text/x-python",
   "name": "python",
   "nbconvert_exporter": "python",
   "pygments_lexer": "ipython3",
   "version": "3.11.5"
  }
 },
 "nbformat": 4,
 "nbformat_minor": 5
}
