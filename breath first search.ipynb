{
 "cells": [
  {
   "cell_type": "code",
   "execution_count": 16,
   "id": "3bbc1c62",
   "metadata": {},
   "outputs": [],
   "source": [
    "graph={'pkc':['stadium','parking','tree'],\n",
    "      'stadium':['main block'],\n",
    "          'parking':['junction'],\n",
    "        'junction':['entrance','main block'],'main block':['junction'],'tree':['pkc'],'entrance':['junction']\n",
    "      }"
   ]
  },
  {
   "cell_type": "code",
   "execution_count": 24,
   "id": "b0b38830",
   "metadata": {},
   "outputs": [],
   "source": [
    "from collections import deque\n",
    "def BFS(graph,start,goal):\n",
    "    visited=[]\n",
    "    queue=deque([start])\n",
    "    while queue:\n",
    "        node=queue.popleft()\n",
    "        if node not in visited:\n",
    "            visited.append(node)\n",
    "            print(\"i have visited: \",node)\n",
    "            neighbournode=graph[node]\n",
    "            if node==goal:\n",
    "                print(\"i have reached the goal,the path i travelled is \",visited)\n",
    "            for neighbours in neighbournode:\n",
    "                queue.append(neighbours)"
   ]
  },
  {
   "cell_type": "code",
   "execution_count": 31,
   "id": "c861e5c1",
   "metadata": {},
   "outputs": [
    {
     "name": "stdout",
     "output_type": "stream",
     "text": [
      "i have visited:  tree\n",
      "i have visited:  pkc\n",
      "i have visited:  stadium\n",
      "i have visited:  parking\n",
      "i have visited:  main block\n",
      "i have visited:  junction\n",
      "i have visited:  entrance\n",
      "i have reached the goal,the path i travelled is  ['tree', 'pkc', 'stadium', 'parking', 'main block', 'junction', 'entrance']\n"
     ]
    }
   ],
   "source": [
    "BFS(graph,'tree','entrance')"
   ]
  },
  {
   "cell_type": "code",
   "execution_count": null,
   "id": "62509612",
   "metadata": {},
   "outputs": [],
   "source": []
  },
  {
   "cell_type": "code",
   "execution_count": null,
   "id": "5bf179bc",
   "metadata": {},
   "outputs": [],
   "source": []
  }
 ],
 "metadata": {
  "kernelspec": {
   "display_name": "Python 3 (ipykernel)",
   "language": "python",
   "name": "python3"
  },
  "language_info": {
   "codemirror_mode": {
    "name": "ipython",
    "version": 3
   },
   "file_extension": ".py",
   "mimetype": "text/x-python",
   "name": "python",
   "nbconvert_exporter": "python",
   "pygments_lexer": "ipython3",
   "version": "3.11.5"
  }
 },
 "nbformat": 4,
 "nbformat_minor": 5
}
