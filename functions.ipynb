{
 "cells": [
  {
   "cell_type": "markdown",
   "id": "7e5ff968",
   "metadata": {},
   "source": [
    "# functions"
   ]
  },
  {
   "cell_type": "code",
   "execution_count": null,
   "id": "f120ebc0",
   "metadata": {},
   "outputs": [],
   "source": [
    "def bp():\n",
    "     guest=int(input(\"enter the no of guest: \")\n",
    "     cake=input(\"enter the cake name: \") \n",
    "     chocolate=input(\"enter the chocolate name: \")\n",
    "     gift=int(input(\"enter the no of gifts:\"))\n",
    "     "
   ]
  },
  {
   "cell_type": "code",
   "execution_count": null,
   "id": "46e1440e",
   "metadata": {},
   "outputs": [],
   "source": [
    "def eligibility(age):\n",
    "    if age>=18:\n",
    "        print(\"you are eligible for voting\")\n",
    "    else:\n",
    "        print(\"you are not eligible\")\n",
    "age=int(input(\"enter your age:\"))   \n",
    "eligibility(age)"
   ]
  },
  {
   "cell_type": "code",
   "execution_count": 4,
   "id": "3e6d11a7",
   "metadata": {},
   "outputs": [
    {
     "name": "stdout",
     "output_type": "stream",
     "text": [
      "enter no of subjects: 8\n",
      "enter the mark : 13\n",
      "enter the mark : 34\n",
      "enter the mark : 25\n",
      "enter the mark : 35\n",
      "enter the mark : 43\n",
      "enter the mark : 15\n",
      "enter the mark : 98\n",
      "enter the mark : 89\n",
      "average = 44.0\n",
      "u have passed\n"
     ]
    }
   ],
   "source": [
    "def average():\n",
    "    n=int(input(\"enter no of subjects: \"))\n",
    "    sum=0\n",
    "    for i in range(0,n):\n",
    "        mark=int(input(\"enter the mark : \"))\n",
    "        sum+=mark\n",
    "    avg=sum/n\n",
    "    print(f\"average = {avg}\")\n",
    "    if avg>30:\n",
    "        print(\"u have passed\")\n",
    "    else:\n",
    "        print(\" u have failed\")\n",
    "average()\n"
   ]
  },
  {
   "cell_type": "code",
   "execution_count": null,
   "id": "b9f6f5f2",
   "metadata": {},
   "outputs": [],
   "source": []
  },
  {
   "cell_type": "code",
   "execution_count": null,
   "id": "e7753b42",
   "metadata": {},
   "outputs": [],
   "source": []
  },
  {
   "cell_type": "code",
   "execution_count": null,
   "id": "943fe594",
   "metadata": {},
   "outputs": [],
   "source": []
  }
 ],
 "metadata": {
  "kernelspec": {
   "display_name": "Python 3 (ipykernel)",
   "language": "python",
   "name": "python3"
  },
  "language_info": {
   "codemirror_mode": {
    "name": "ipython",
    "version": 3
   },
   "file_extension": ".py",
   "mimetype": "text/x-python",
   "name": "python",
   "nbconvert_exporter": "python",
   "pygments_lexer": "ipython3",
   "version": "3.9.17"
  }
 },
 "nbformat": 4,
 "nbformat_minor": 5
}
