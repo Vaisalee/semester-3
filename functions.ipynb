{
 "cells": [
  {
   "cell_type": "markdown",
   "id": "7e5ff968",
   "metadata": {},
   "source": [
    "# functions"
   ]
  },
  {
   "cell_type": "code",
   "execution_count": null,
   "id": "f120ebc0",
   "metadata": {},
   "outputs": [],
   "source": [
    "def bp():\n",
    "     guest=int(input(\"enter the no of guest: \")\n",
    "     cake=input(\"enter the cake name: \") \n",
    "     chocolate=input(\"enter the chocolate name: \")\n",
    "     gift=int(input(\"enter the no of gifts:\"))\n",
    "     "
   ]
  },
  {
   "cell_type": "code",
   "execution_count": 2,
   "id": "46e1440e",
   "metadata": {},
   "outputs": [
    {
     "name": "stdout",
     "output_type": "stream",
     "text": [
      "enter your age:18\n",
      "you are eligible for voting\n"
     ]
    }
   ],
   "source": [
    "def eligibility(age):\n",
    "    if age>=18:\n",
    "        print(\"you are eligible for voting\")\n",
    "    else:\n",
    "        print(\"you are not eligible\")\n",
    "age=int(input(\"enter your age:\"))   \n",
    "eligibility(age)"
   ]
  },
  {
   "cell_type": "code",
   "execution_count": null,
   "id": "20afe76c",
   "metadata": {},
   "outputs": [],
   "source": []
  },
  {
   "cell_type": "code",
   "execution_count": null,
   "id": "7b382ef0",
   "metadata": {},
   "outputs": [],
   "source": []
  },
  {
   "cell_type": "code",
   "execution_count": null,
   "id": "b68a29ae",
   "metadata": {},
   "outputs": [],
   "source": []
  }
 ],
 "metadata": {
  "kernelspec": {
   "display_name": "Python 3 (ipykernel)",
   "language": "python",
   "name": "python3"
  },
  "language_info": {
   "codemirror_mode": {
    "name": "ipython",
    "version": 3
   },
   "file_extension": ".py",
   "mimetype": "text/x-python",
   "name": "python",
   "nbconvert_exporter": "python",
   "pygments_lexer": "ipython3",
   "version": "3.9.17"
  }
 },
 "nbformat": 4,
 "nbformat_minor": 5
}
