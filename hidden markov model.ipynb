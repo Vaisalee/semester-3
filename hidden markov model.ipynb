{
 "cells": [
  {
   "cell_type": "markdown",
   "id": "321b5146",
   "metadata": {},
   "source": [
    "In our problem we have our poor prisoner who is stuck in a prison.. as the story says..\n",
    "this prison is completely isolated from the rest of the world.. and one cannot even see\n",
    "the sky.. in such scenario our prisoner has been in the prison for 2 years now.. the funny \n",
    "things is that there is an incharge who takes care of all prisoners.. so the incharge\n",
    "wears hat if it is sunny and wears a rain coat if its rainy.. since the prisoner has no\n",
    "access to open spaces.. he can only deduce the weather by checking what the incharge\n",
    "came in everyday.. is it a rain coat or a hat..."
   ]
  },
  {
   "cell_type": "code",
   "execution_count": 3,
   "id": "12f5883b",
   "metadata": {},
   "outputs": [],
   "source": [
    "from  protopunica import *"
   ]
  },
  {
   "cell_type": "code",
   "execution_count": 4,
   "id": "099ed8ed",
   "metadata": {},
   "outputs": [],
   "source": [
    "sunny= DiscreteDistribution({\"raincoat\":0.1,\"hat\":0.9})\n",
    "Rainy=DiscreteDistribution({\"raincoat\":0.7,\"hat\":0.3})"
   ]
  },
  {
   "cell_type": "code",
   "execution_count": 5,
   "id": "41b8d3c5",
   "metadata": {},
   "outputs": [],
   "source": [
    "states=[sunny,Rainy]"
   ]
  },
  {
   "cell_type": "code",
   "execution_count": 6,
   "id": "52b29e6e",
   "metadata": {},
   "outputs": [],
   "source": [
    "transition_model=numpy.array([[0.7,0.3],[0.4,0.6]])"
   ]
  },
  {
   "cell_type": "code",
   "execution_count": 7,
   "id": "472a5632",
   "metadata": {},
   "outputs": [],
   "source": [
    "Initial_state=numpy.array([0.3,0.7])"
   ]
  },
  {
   "cell_type": "code",
   "execution_count": 8,
   "id": "e67c1fe1",
   "metadata": {},
   "outputs": [],
   "source": [
    "model=HiddenMarkovModel.from_matrix(\n",
    "transition_model,states,Initial_state,\n",
    "state_names=[\"sunny\",\"Rainy\"])"
   ]
  },
  {
   "cell_type": "code",
   "execution_count": 9,
   "id": "417dde99",
   "metadata": {},
   "outputs": [],
   "source": [
    "model.bake()"
   ]
  },
  {
   "cell_type": "code",
   "execution_count": 10,
   "id": "14bc720a",
   "metadata": {},
   "outputs": [],
   "source": [
    "observations=[\n",
    "    \"hat\",\n",
    "    \"hat\",\n",
    "    \"raincoat\",\n",
    "    \"raincoat\",\n",
    "    \"hat\",\n",
    "    \"hat\",\n",
    "    \"raincoat\",\n",
    "    \"hat\",\n",
    "    \"hat\"\n",
    "]"
   ]
  },
  {
   "cell_type": "code",
   "execution_count": 11,
   "id": "9163401c",
   "metadata": {},
   "outputs": [],
   "source": [
    "predictions=model.predict(observations)"
   ]
  },
  {
   "cell_type": "code",
   "execution_count": 12,
   "id": "b1356194",
   "metadata": {},
   "outputs": [
    {
     "data": {
      "text/plain": [
       "[1, 1, 0, 0, 1, 1, 0, 1, 1]"
      ]
     },
     "execution_count": 12,
     "metadata": {},
     "output_type": "execute_result"
    }
   ],
   "source": [
    "predictions"
   ]
  },
  {
   "cell_type": "code",
   "execution_count": 13,
   "id": "97af9f84",
   "metadata": {},
   "outputs": [
    {
     "data": {
      "text/plain": [
       "{\n",
       "    \"class\" : \"HiddenMarkovModel\",\n",
       "    \"name\" : \"None\",\n",
       "    \"start\" : {\n",
       "        \"class\" : \"State\",\n",
       "        \"distribution\" : null,\n",
       "        \"name\" : \"None-start\",\n",
       "        \"weight\" : 1.0\n",
       "    },\n",
       "    \"end\" : {\n",
       "        \"class\" : \"State\",\n",
       "        \"distribution\" : null,\n",
       "        \"name\" : \"None-end\",\n",
       "        \"weight\" : 1.0\n",
       "    },\n",
       "    \"states\" : [\n",
       "        {\n",
       "            \"class\" : \"State\",\n",
       "            \"distribution\" : {\n",
       "                \"class\" : \"Distribution\",\n",
       "                \"dtype\" : \"str\",\n",
       "                \"name\" : \"DiscreteDistribution\",\n",
       "                \"parameters\" : [\n",
       "                    {\n",
       "                        \"raincoat\" : 0.7,\n",
       "                        \"hat\" : 0.3\n",
       "                    }\n",
       "                ],\n",
       "                \"frozen\" : false\n",
       "            },\n",
       "            \"name\" : \"Rainy\",\n",
       "            \"weight\" : 1.0\n",
       "        },\n",
       "        {\n",
       "            \"class\" : \"State\",\n",
       "            \"distribution\" : {\n",
       "                \"class\" : \"Distribution\",\n",
       "                \"dtype\" : \"str\",\n",
       "                \"name\" : \"DiscreteDistribution\",\n",
       "                \"parameters\" : [\n",
       "                    {\n",
       "                        \"raincoat\" : 0.1,\n",
       "                        \"hat\" : 0.9\n",
       "                    }\n",
       "                ],\n",
       "                \"frozen\" : false\n",
       "            },\n",
       "            \"name\" : \"sunny\",\n",
       "            \"weight\" : 1.0\n",
       "        },\n",
       "        {\n",
       "            \"class\" : \"State\",\n",
       "            \"distribution\" : null,\n",
       "            \"name\" : \"None-start\",\n",
       "            \"weight\" : 1.0\n",
       "        },\n",
       "        {\n",
       "            \"class\" : \"State\",\n",
       "            \"distribution\" : null,\n",
       "            \"name\" : \"None-end\",\n",
       "            \"weight\" : 1.0\n",
       "        }\n",
       "    ],\n",
       "    \"end_index\" : 3,\n",
       "    \"start_index\" : 2,\n",
       "    \"silent_index\" : 2,\n",
       "    \"edges\" : [\n",
       "        [\n",
       "            2,\n",
       "            1,\n",
       "            0.3,\n",
       "            0.3,\n",
       "            null\n",
       "        ],\n",
       "        [\n",
       "            2,\n",
       "            0,\n",
       "            0.7,\n",
       "            0.7,\n",
       "            null\n",
       "        ],\n",
       "        [\n",
       "            1,\n",
       "            1,\n",
       "            0.7,\n",
       "            0.7,\n",
       "            null\n",
       "        ],\n",
       "        [\n",
       "            1,\n",
       "            0,\n",
       "            0.3,\n",
       "            0.3,\n",
       "            null\n",
       "        ],\n",
       "        [\n",
       "            0,\n",
       "            1,\n",
       "            0.4,\n",
       "            0.4,\n",
       "            null\n",
       "        ],\n",
       "        [\n",
       "            0,\n",
       "            0,\n",
       "            0.6,\n",
       "            0.6,\n",
       "            null\n",
       "        ]\n",
       "    ],\n",
       "    \"distribution ties\" : []\n",
       "}"
      ]
     },
     "execution_count": 13,
     "metadata": {},
     "output_type": "execute_result"
    }
   ],
   "source": [
    "model"
   ]
  },
  {
   "cell_type": "code",
   "execution_count": 14,
   "id": "fd870aa4",
   "metadata": {},
   "outputs": [
    {
     "name": "stdout",
     "output_type": "stream",
     "text": [
      "sunny\n",
      "sunny\n",
      "Rainy\n",
      "Rainy\n",
      "sunny\n",
      "sunny\n",
      "Rainy\n",
      "sunny\n",
      "sunny\n"
     ]
    }
   ],
   "source": [
    "for prediction in predictions:\n",
    "    print(model.states[prediction].name)"
   ]
  },
  {
   "cell_type": "code",
   "execution_count": null,
   "id": "f85f8a5c",
   "metadata": {},
   "outputs": [],
   "source": [
    "pip install pandas"
   ]
  },
  {
   "cell_type": "code",
   "execution_count": 17,
   "id": "b9451393",
   "metadata": {},
   "outputs": [],
   "source": [
    "import pandas as pd"
   ]
  },
  {
   "cell_type": "code",
   "execution_count": 18,
   "id": "5226f693",
   "metadata": {},
   "outputs": [],
   "source": [
    "predicted_probabilities=model.predict_proba(observations)"
   ]
  },
  {
   "cell_type": "code",
   "execution_count": 19,
   "id": "1bff31e7",
   "metadata": {},
   "outputs": [],
   "source": [
    "Most_likely_weather=pd.DataFrame(predicted_probabilities,columns=[\"Rainy\",\"sunny\"])"
   ]
  },
  {
   "cell_type": "code",
   "execution_count": 20,
   "id": "c88c257d",
   "metadata": {},
   "outputs": [
    {
     "name": "stdout",
     "output_type": "stream",
     "text": [
      "      Rainy     sunny\n",
      "0  0.399892  0.600108\n",
      "1  0.306306  0.693694\n",
      "2  0.859424  0.140576\n",
      "3  0.855572  0.144428\n",
      "4  0.266125  0.733875\n",
      "5  0.248499  0.751501\n",
      "6  0.730427  0.269573\n",
      "7  0.225295  0.774705\n",
      "8  0.171936  0.828064\n"
     ]
    }
   ],
   "source": [
    "print(Most_likely_weather)"
   ]
  },
  {
   "cell_type": "code",
   "execution_count": null,
   "id": "c6cff632",
   "metadata": {},
   "outputs": [],
   "source": []
  }
 ],
 "metadata": {
  "kernelspec": {
   "display_name": "Python 3 (ipykernel)",
   "language": "python",
   "name": "python3"
  },
  "language_info": {
   "codemirror_mode": {
    "name": "ipython",
    "version": 3
   },
   "file_extension": ".py",
   "mimetype": "text/x-python",
   "name": "python",
   "nbconvert_exporter": "python",
   "pygments_lexer": "ipython3",
   "version": "3.11.5"
  }
 },
 "nbformat": 4,
 "nbformat_minor": 5
}
